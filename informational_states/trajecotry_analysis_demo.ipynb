{
 "cells": [
  {
   "cell_type": "code",
   "execution_count": 3,
   "metadata": {},
   "outputs": [],
   "source": [
    "import matplotlib.pyplot as plt\n",
    "import numpy as np\n",
    "\n",
    "\n",
    "from measure import MeasurementDevice, Measurement, TrajectoryEnsemble, make_sample_data\n",
    "from numba import njit\n"
   ]
  },
  {
   "cell_type": "code",
   "execution_count": 167,
   "metadata": {},
   "outputs": [
    {
     "data": {
      "image/png": "[encoded data removed]",
      "text/plain": [
       "<Figure size 432x288 with 1 Axes>"
      ]
     },
     "metadata": {
      "needs_background": "light"
     },
     "output_type": "display_data"
    }
   ],
   "source": [
    "data = make_sample_data(N=100000, N_t=5, N_d=2, markov=False)\n",
    "data_sample = data[:2, ::2]\n",
    "\n",
    "trial_slice = np.s_[:20]\n",
    "for i in range(len(data[0,:,0])):\n",
    "\n",
    "    plt.scatter(data[trial_slice,i, 0], data[trial_slice,i, 1], alpha=1)\n"
   ]
  },
  {
   "cell_type": "code",
   "execution_count": 26,
   "metadata": {},
   "outputs": [
    {
     "data": {
      "text/plain": [
       "(3, 6, 2)"
      ]
     },
     "execution_count": 26,
     "metadata": {},
     "output_type": "execute_result"
    }
   ],
   "source": [
    "'''\n",
    "traj_sample = np.s_[:, ::100, 1:, 0]\n",
    "sample = np.s_[:, 0, 1:, 0]\n",
    "experimental_data = np.load('../system_experiments/saved_data/eq_process_3D.npy')[traj_sample]\n",
    "exp_data_trimmed = experimental_data[:3]\n",
    "exp_data_trimmed.shape\n"
   ]
  },
  {
   "cell_type": "code",
   "execution_count": 183,
   "metadata": {},
   "outputs": [
    {
     "name": "stdout",
     "output_type": "stream",
     "text": [
      "(50000, 3, 2)\n"
     ]
    },
    {
     "data": {
      "image/png": "[encoded data removed]",
      "text/plain": [
       "<Figure size 432x288 with 1 Axes>"
      ]
     },
     "metadata": {
      "needs_background": "light"
     },
     "output_type": "display_data"
    }
   ],
   "source": [
    "print(experimental_data.shape)\n",
    "for i in range(8):\n",
    "    plt.scatter(experimental_data[i,:,0], experimental_data[i,:,1])"
   ]
  },
  {
   "cell_type": "code",
   "execution_count": 168,
   "metadata": {},
   "outputs": [],
   "source": [
    "binary_device = MeasurementDevice(trajectory_mode=True)"
   ]
  },
  {
   "cell_type": "code",
   "execution_count": 169,
   "metadata": {},
   "outputs": [
    {
     "name": "stdout",
     "output_type": "stream",
     "text": [
      "None\n",
      "None\n",
      "CPUDispatcher(<function binary_partition at 0x7fd7fe8dcdd0>)\n"
     ]
    }
   ],
   "source": [
    "for item in [binary_device.outcome_names, binary_device.outcome_values, binary_device.transform]:\n",
    "    print(item)"
   ]
  },
  {
   "cell_type": "code",
   "execution_count": 170,
   "metadata": {},
   "outputs": [],
   "source": [
    "measured_data, objective_function = binary_device.apply(exp_data_trimmed)"
   ]
  },
  {
   "cell_type": "code",
   "execution_count": 171,
   "metadata": {},
   "outputs": [
    {
     "name": "stdout",
     "output_type": "stream",
     "text": [
      "['00', '01', '10', '11']\n",
      "[(0, 0), (0, 1), (1, 0), (1, 1)]\n",
      "CPUDispatcher(<function binary_partition at 0x7fd7fe8dcdd0>)\n"
     ]
    }
   ],
   "source": [
    "for item in [binary_device.outcome_names, binary_device.outcome_values, binary_device.transform]:\n",
    "    print(item)"
   ]
  },
  {
   "cell_type": "code",
   "execution_count": 172,
   "metadata": {},
   "outputs": [
    {
     "data": {
      "text/plain": [
       "array([[False,  True, False, False, False, False],\n",
       "       [False, False,  True, False,  True,  True],\n",
       "       [False, False,  True, False, False,  True]])"
      ]
     },
     "execution_count": 172,
     "metadata": {},
     "output_type": "execute_result"
    }
   ],
   "source": [
    "objective_function[2]"
   ]
  },
  {
   "cell_type": "code",
   "execution_count": 173,
   "metadata": {},
   "outputs": [
    {
     "data": {
      "text/plain": [
       "array([[[0., 1.],\n",
       "        [1., 0.],\n",
       "        [0., 1.],\n",
       "        [0., 1.],\n",
       "        [1., 1.],\n",
       "        [0., 1.]],\n",
       "\n",
       "       [[1., 1.],\n",
       "        [0., 1.],\n",
       "        [1., 0.],\n",
       "        [0., 1.],\n",
       "        [1., 0.],\n",
       "        [1., 0.]],\n",
       "\n",
       "       [[0., 0.],\n",
       "        [0., 1.],\n",
       "        [1., 0.],\n",
       "        [0., 0.],\n",
       "        [0., 1.],\n",
       "        [1., 0.]]])"
      ]
     },
     "execution_count": 173,
     "metadata": {},
     "output_type": "execute_result"
    }
   ],
   "source": [
    "measured_data"
   ]
  },
  {
   "cell_type": "code",
   "execution_count": 33,
   "metadata": {},
   "outputs": [
    {
     "data": {
      "text/plain": [
       "\"\\nfor item in range(4):\\n    plt.plot(data[item,:,0], data[item,:,1], marker='o')\\nline_kwargs = {'c':'k', 'linestyle':'--'}\\nplt.axhline(0,0, **line_kwargs)\\nplt.axvline(0,0, **line_kwargs)\\nif cg.state_coords is not None:\\n    for loc, name in zip(cg.state_coords, cg.state_names):\\n        loc = np.multiply(10, loc)- (5,5) \\n        plt.text(*loc, name) \\n\""
      ]
     },
     "execution_count": 33,
     "metadata": {},
     "output_type": "execute_result"
    }
   ],
   "source": [
    "'''\n",
    "for item in range(4):\n",
    "    plt.plot(data[item,:,0], data[item,:,1], marker='o')\n",
    "line_kwargs = {'c':'k', 'linestyle':'--'}\n",
    "plt.axhline(0,0, **line_kwargs)\n",
    "plt.axvline(0,0, **line_kwargs)\n",
    "if cg.state_coords is not None:\n",
    "    for loc, name in zip(cg.state_coords, cg.state_names):\n",
    "        loc = np.multiply(10, loc)- (5,5) \n",
    "        plt.text(*loc, name) \n",
    "'''"
   ]
  },
  {
   "cell_type": "code",
   "execution_count": 176,
   "metadata": {},
   "outputs": [
    {
     "name": "stdout",
     "output_type": "stream",
     "text": [
      "CPU times: user 210 ms, sys: 7.26 ms, total: 218 ms\n",
      "Wall time: 218 ms\n"
     ]
    }
   ],
   "source": [
    "%%time\n",
    "binary_measurement = Measurement(binary_device, dataset=data)"
   ]
  },
  {
   "cell_type": "code",
   "execution_count": 177,
   "metadata": {},
   "outputs": [
    {
     "data": {
      "text/plain": [
       "(100000, 5, 2)"
      ]
     },
     "execution_count": 177,
     "metadata": {},
     "output_type": "execute_result"
    }
   ],
   "source": [
    "md = binary_measurement.measured_data\n",
    "md.shape"
   ]
  },
  {
   "cell_type": "code",
   "execution_count": 178,
   "metadata": {},
   "outputs": [],
   "source": [
    "boolean_lookup = binary_device.get_lookup(binary_measurement.booleans)"
   ]
  },
  {
   "cell_type": "code",
   "execution_count": 181,
   "metadata": {},
   "outputs": [
    {
     "data": {
      "text/plain": [
       "array([[ True,  True, False, False, False],\n",
       "       [ True,  True, False, False, False],\n",
       "       [ True,  True, False, False, False],\n",
       "       [ True,  True,  True, False, False],\n",
       "       [ True,  True,  True, False, False]])"
      ]
     },
     "execution_count": 181,
     "metadata": {},
     "output_type": "execute_result"
    }
   ],
   "source": [
    "boolean_lookup['00'][:5]"
   ]
  },
  {
   "cell_type": "code",
   "execution_count": 182,
   "metadata": {},
   "outputs": [
    {
     "name": "stdout",
     "output_type": "stream",
     "text": [
      "CPU times: user 8.26 ms, sys: 2.58 ms, total: 10.8 ms\n",
      "Wall time: 9.26 ms\n"
     ]
    }
   ],
   "source": [
    "%%time\n",
    "tbn = binary_measurement.trajectories_by_number()"
   ]
  },
  {
   "cell_type": "code",
   "execution_count": 250,
   "metadata": {},
   "outputs": [
    {
     "data": {
      "text/plain": [
       "array([[1, 1, 4, 4, 4],\n",
       "       [1, 1, 4, 4, 4],\n",
       "       [1, 1, 4, 4, 4],\n",
       "       ...,\n",
       "       [1, 1, 4, 4, 4],\n",
       "       [1, 1, 2, 4, 4],\n",
       "       [1, 1, 3, 4, 4]], dtype=uint8)"
      ]
     },
     "execution_count": 250,
     "metadata": {},
     "output_type": "execute_result"
    }
   ],
   "source": [
    "tbn"
   ]
  },
  {
   "cell_type": "code",
   "execution_count": 184,
   "metadata": {},
   "outputs": [
    {
     "name": "stdout",
     "output_type": "stream",
     "text": [
      "CPU times: user 3 µs, sys: 0 ns, total: 3 µs\n",
      "Wall time: 5.01 µs\n",
      "found 30 unique trajectories in 100000 samples\n"
     ]
    }
   ],
   "source": [
    "%time\n",
    "traj_ensemble = binary_measurement.calculate_trajectory_statistics()"
   ]
  },
  {
   "cell_type": "code",
   "execution_count": 189,
   "metadata": {},
   "outputs": [
    {
     "data": {
      "text/plain": [
       "(30, 5)"
      ]
     },
     "execution_count": 189,
     "metadata": {},
     "output_type": "execute_result"
    }
   ],
   "source": [
    "traj, counts = traj_ensemble.trajectory_statistics\n",
    "traj.shape"
   ]
  },
  {
   "cell_type": "code",
   "execution_count": 186,
   "metadata": {},
   "outputs": [],
   "source": [
    "num_lu = binary_device.get_lookup(traj_ensemble.outcome_numbers)"
   ]
  },
  {
   "cell_type": "code",
   "execution_count": 225,
   "metadata": {},
   "outputs": [
    {
     "data": {
      "text/plain": [
       "array([[1, 1, 3, 4, 4],\n",
       "       [1, 1, 4, 4, 4],\n",
       "       [1, 1, 1, 4, 4],\n",
       "       [1, 1, 2, 4, 4],\n",
       "       [1, 1, 4, 2, 4],\n",
       "       [1, 3, 3, 4, 4],\n",
       "       [1, 2, 2, 4, 4],\n",
       "       [1, 1, 1, 3, 4],\n",
       "       [1, 1, 3, 3, 4],\n",
       "       [1, 1, 2, 3, 4],\n",
       "       [1, 3, 1, 4, 4],\n",
       "       [1, 1, 1, 2, 4],\n",
       "       [1, 1, 2, 2, 4],\n",
       "       [1, 3, 4, 4, 4],\n",
       "       [1, 2, 3, 4, 4],\n",
       "       [1, 2, 1, 4, 4],\n",
       "       [1, 1, 3, 2, 4],\n",
       "       [1, 2, 4, 4, 4],\n",
       "       [1, 1, 4, 3, 4],\n",
       "       [1, 3, 2, 4, 4],\n",
       "       [1, 4, 2, 4, 4],\n",
       "       [1, 2, 2, 2, 4],\n",
       "       [1, 3, 1, 3, 4],\n",
       "       [1, 3, 3, 3, 4],\n",
       "       [1, 4, 4, 4, 4],\n",
       "       [1, 2, 3, 2, 4],\n",
       "       [1, 3, 2, 3, 4],\n",
       "       [1, 3, 4, 2, 4],\n",
       "       [1, 3, 4, 3, 4],\n",
       "       [1, 2, 2, 3, 2]], dtype=uint8)"
      ]
     },
     "execution_count": 225,
     "metadata": {},
     "output_type": "execute_result"
    }
   ],
   "source": [
    "traj"
   ]
  },
  {
   "cell_type": "code",
   "execution_count": 239,
   "metadata": {},
   "outputs": [
    {
     "data": {
      "text/plain": [
       "array([ True,  True,  True,  True,  True,  True,  True,  True,  True,\n",
       "        True,  True,  True,  True,  True,  True,  True,  True,  True,\n",
       "        True,  True,  True,  True,  True,  True,  True,  True,  True,\n",
       "        True,  True,  True])"
      ]
     },
     "execution_count": 239,
     "metadata": {},
     "output_type": "execute_result"
    }
   ],
   "source": [
    "((traj[:,1:-1].any(axis=1) == num_lu['00']) | (traj[:,1:-1].any(axis=1) == num_lu['11']))"
   ]
  },
  {
   "cell_type": "code",
   "execution_count": 204,
   "metadata": {},
   "outputs": [],
   "source": [
    "t_slice = np.s_[:,1:-1]"
   ]
  },
  {
   "cell_type": "code",
   "execution_count": 240,
   "metadata": {},
   "outputs": [],
   "source": [
    "inside = ((traj[t_slice] == num_lu['00']) | (traj[t_slice] == num_lu['11'])).all(axis=1) & (traj[:,-1] == num_lu['11'])"
   ]
  },
  {
   "cell_type": "code",
   "execution_count": 241,
   "metadata": {},
   "outputs": [],
   "source": [
    "outside = ((traj[:,0] == num_lu['00']) & (traj[:,-1] == num_lu['11']))"
   ]
  },
  {
   "cell_type": "code",
   "execution_count": 256,
   "metadata": {},
   "outputs": [
    {
     "data": {
      "text/plain": [
       "array([ True, False, False,  True,  True,  True,  True,  True,  True,\n",
       "        True,  True,  True,  True,  True,  True,  True,  True,  True,\n",
       "        True,  True,  True,  True,  True,  True, False,  True,  True,\n",
       "        True,  True,  True])"
      ]
     },
     "execution_count": 256,
     "metadata": {},
     "output_type": "execute_result"
    }
   ],
   "source": [
    " ~(inside & outside)"
   ]
  },
  {
   "cell_type": "code",
   "execution_count": 247,
   "metadata": {},
   "outputs": [
    {
     "data": {
      "text/plain": [
       "array([0.24515, 0.24456, 0.24341])"
      ]
     },
     "execution_count": 247,
     "metadata": {},
     "output_type": "execute_result"
    }
   ],
   "source": [
    "counts[:3]"
   ]
  },
  {
   "cell_type": "code",
   "execution_count": 210,
   "metadata": {},
   "outputs": [
    {
     "data": {
      "text/plain": [
       "array([[False,  True, False],\n",
       "       [False, False, False],\n",
       "       [False, False, False],\n",
       "       [False, False, False],\n",
       "       [False, False, False],\n",
       "       [ True,  True, False],\n",
       "       [False, False, False],\n",
       "       [False, False,  True],\n",
       "       [False,  True,  True],\n",
       "       [False, False,  True],\n",
       "       [ True, False, False],\n",
       "       [False, False, False],\n",
       "       [False, False, False],\n",
       "       [ True, False, False],\n",
       "       [False,  True, False],\n",
       "       [False, False, False],\n",
       "       [False,  True, False],\n",
       "       [False, False, False],\n",
       "       [False, False,  True],\n",
       "       [ True, False, False],\n",
       "       [False, False, False],\n",
       "       [False, False, False],\n",
       "       [ True, False,  True],\n",
       "       [ True,  True,  True],\n",
       "       [False, False, False],\n",
       "       [False,  True, False],\n",
       "       [ True, False,  True],\n",
       "       [ True, False, False],\n",
       "       [ True, False,  True],\n",
       "       [False, False,  True]])"
      ]
     },
     "execution_count": 210,
     "metadata": {},
     "output_type": "execute_result"
    }
   ],
   "source": [
    "(traj[t_slice] == num_lu['10']).any(axis=())"
   ]
  },
  {
   "cell_type": "code",
   "execution_count": 41,
   "metadata": {},
   "outputs": [
    {
     "data": {
      "text/plain": [
       "array([0.0018])"
      ]
     },
     "execution_count": 41,
     "metadata": {},
     "output_type": "execute_result"
    }
   ],
   "source": [
    "counts[np.all(traj==traj[0][::-1], axis=-1)]"
   ]
  },
  {
   "cell_type": "code",
   "execution_count": 178,
   "metadata": {},
   "outputs": [
    {
     "data": {
      "text/plain": [
       "0.12698"
      ]
     },
     "execution_count": 178,
     "metadata": {},
     "output_type": "execute_result"
    }
   ],
   "source": [
    "counts[0]"
   ]
  },
  {
   "cell_type": "code",
   "execution_count": 112,
   "metadata": {},
   "outputs": [
    {
     "name": "stdout",
     "output_type": "stream",
     "text": [
      "CPU times: user 14.1 ms, sys: 1.51 ms, total: 15.6 ms\n",
      "Wall time: 14.5 ms\n"
     ]
    },
    {
     "data": {
      "text/plain": [
       "array([[0.148301  , 0.34984179, 0.35286835, 0.14898886],\n",
       "       [0.14514215, 0.3539818 , 0.35217318, 0.14870288],\n",
       "       [0.1488018 , 0.34705385, 0.35680857, 0.14733578],\n",
       "       [0.1436396 , 0.35464877, 0.35560728, 0.14610434]])"
      ]
     },
     "execution_count": 112,
     "metadata": {},
     "output_type": "execute_result"
    }
   ],
   "source": [
    "%%time\n",
    "traj_ensemble.get_local_transition_matrix(traj_ensemble.unique_traj, traj_ensemble.traj_probs, 3)"
   ]
  },
  {
   "cell_type": "code",
   "execution_count": 160,
   "metadata": {},
   "outputs": [
    {
     "name": "stdout",
     "output_type": "stream",
     "text": [
      "CPU times: user 3.2 ms, sys: 403 µs, total: 3.6 ms\n",
      "Wall time: 3.4 ms\n"
     ]
    }
   ],
   "source": [
    "%%time\n",
    "dynamics = traj_ensemble.calculate_dynamics()"
   ]
  },
  {
   "cell_type": "code",
   "execution_count": 161,
   "metadata": {},
   "outputs": [
    {
     "data": {
      "text/plain": [
       "array([[[0.15036257, 0.35203174, 0.35723081, 0.14037488],\n",
       "        [0.14508739, 0.35624187, 0.35386617, 0.14480457],\n",
       "        [0.14442987, 0.3538874 , 0.35314586, 0.14853688],\n",
       "        [0.14917792, 0.34781446, 0.35423072, 0.1487769 ]],\n",
       "\n",
       "       [[0.14387309, 0.35216083, 0.3547593 , 0.14920678],\n",
       "        [0.15008203, 0.35079482, 0.35068168, 0.14844148],\n",
       "        [0.14456743, 0.3489948 , 0.36011972, 0.14631805],\n",
       "        [0.1463782 , 0.35533342, 0.3493085 , 0.14897987]]])"
      ]
     },
     "execution_count": 161,
     "metadata": {},
     "output_type": "execute_result"
    }
   ],
   "source": [
    "dynamics"
   ]
  },
  {
   "cell_type": "code",
   "execution_count": 158,
   "metadata": {},
   "outputs": [
    {
     "name": "stdout",
     "output_type": "stream",
     "text": [
      "16 of 16 transition matrix elements stay within 0.05 of their means 80.0% of the time\n"
     ]
    }
   ],
   "source": [
    "local_bools = traj_ensemble.markovity_test(dynamics)"
   ]
  },
  {
   "cell_type": "code",
   "execution_count": 157,
   "metadata": {},
   "outputs": [
    {
     "name": "stdout",
     "output_type": "stream",
     "text": [
      "45 out of 64 trajectories were reversible\n"
     ]
    }
   ],
   "source": [
    "rp = traj_ensemble.reversibility_test(tol_kwargs = {'rtol':.05})"
   ]
  },
  {
   "cell_type": "code",
   "execution_count": 122,
   "metadata": {},
   "outputs": [
    {
     "data": {
      "text/plain": [
       "array([0.00606, 0.00602, 0.00594, 0.00594, 0.0059 , 0.00578, 0.00574,\n",
       "       0.00572, 0.00572, 0.0057 ])"
      ]
     },
     "execution_count": 122,
     "metadata": {},
     "output_type": "execute_result"
    }
   ],
   "source": [
    "traj_ensemble.traj_probs[:10]"
   ]
  },
  {
   "cell_type": "code",
   "execution_count": 123,
   "metadata": {},
   "outputs": [
    {
     "data": {
      "text/plain": [
       "[0.00572,\n",
       " 0.00564,\n",
       " 0.00594,\n",
       " 0.00594,\n",
       " 0.00526,\n",
       " 0.00552,\n",
       " 0.0047,\n",
       " 0.00606,\n",
       " 0.00556,\n",
       " 0.0057]"
      ]
     },
     "execution_count": 123,
     "metadata": {},
     "output_type": "execute_result"
    }
   ],
   "source": [
    "rp[:10]"
   ]
  },
  {
   "cell_type": "code",
   "execution_count": null,
   "metadata": {},
   "outputs": [],
   "source": []
  }
 ],
 "metadata": {
  "kernelspec": {
   "display_name": "Python 3",
   "language": "python",
   "name": "python3"
  },
  "language_info": {
   "codemirror_mode": {
    "name": "ipython",
    "version": 3
   },
   "file_extension": ".py",
   "mimetype": "text/x-python",
   "name": "python",
   "nbconvert_exporter": "python",
   "pygments_lexer": "ipython3",
   "version": "3.7.9"
  }
 },
 "nbformat": 4,
 "nbformat_minor": 4
}
