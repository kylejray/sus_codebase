{
 "cells": [
  {
   "cell_type": "markdown",
   "metadata": {},
   "source": [
    "### Tutorial Notebook Showing How sus, infoenginessims work together to make a sim object"
   ]
  },
  {
   "cell_type": "code",
   "execution_count": null,
   "metadata": {},
   "outputs": [],
   "source": [
    "#standard imports, these can be done automatically using a conda environemnt\n",
    "import sys\n",
    "import os\n",
    "import matplotlib.pyplot as plt\n",
    "import numpy as np\n",
    "# imports to deal with getting nice animations and outputs for matplotlip in jupyter\n",
    "plt.rcParams[\"animation.html\"] = \"jshtml\"\n",
    "from IPython.display import HTML\n",
    "import matplotlib.animation as animation\n",
    "%matplotlib inline\n",
    "\n"
   ]
  },
  {
   "cell_type": "code",
   "execution_count": null,
   "metadata": {},
   "outputs": [],
   "source": [
    "# I always keep my code in a folder in my home directory called 'source/', and begin with the following:\n",
    "source_path = os.path.expanduser('~/source/')\n",
    "sys.path.append(source_path)\n",
    "# which will enable the following imports:\n",
    "from sus import protocol_designer as pd\n",
    "from sus.library.szilard_protocols import blw_szilard\n",
    "\n",
    "# usually these would not be imported but handled in a separate document, but to show the inner workings of the simtools package, I will manually import some stuff\n",
    "\n",
    "sim_path = os.path.dirname(source_path + \"simtools/infoenginessims/\")\n",
    "sys.path.append(sim_path)\n",
    "\n",
    "from integrators import rkdeterm_eulerstoch\n",
    "from dynamics import langevin_underdamped, langevin_overdamped\n",
    "from simprocedures import basic_simprocedures as sp\n",
    "from simprocedures import running_measurements as rp\n",
    "from simulation import Simulation"
   ]
  },
  {
   "cell_type": "code",
   "execution_count": null,
   "metadata": {},
   "outputs": [],
   "source": [
    "# first, we have our system, as explained in the sus package tutorial:\n",
    "system = blw_szilard\n",
    "\n",
    "system.potential?"
   ]
  },
  {
   "cell_type": "code",
   "execution_count": null,
   "metadata": {},
   "outputs": [],
   "source": []
  },
  {
   "cell_type": "code",
   "execution_count": null,
   "metadata": {},
   "outputs": [],
   "source": [
    "# The system we chose is a 2D potential that uses frou wells to implement a Szilard Cycle over 6 substages\n",
    "system.protocol.show_substage_times()\n",
    "# Here are smoe snapshots of the potential\n",
    "system.show_potential(0)\n",
    "system.show_potential(.16)\n",
    "system.show_potential(.66)\n"
   ]
  },
  {
   "cell_type": "code",
   "execution_count": null,
   "metadata": {},
   "outputs": [],
   "source": [
    "%%capture\n",
    "# and an animation of the whole thing. (Note there are some qorkarounds here ot get animations working in jupyter noteobok. This is one of the weaker parts of the package, but its just for prototyping so I dont worry about it too much).\n",
    "ani = system.animate_protocol()\n",
    "HTML(ani.to_jshtml(fps=30))"
   ]
  },
  {
   "cell_type": "code",
   "execution_count": null,
   "metadata": {},
   "outputs": [],
   "source": [
    "ani"
   ]
  },
  {
   "cell_type": "code",
   "execution_count": null,
   "metadata": {},
   "outputs": [],
   "source": [
    "# next, we want to generate a starting distribution. Generally its an EQ dist at a certain time (the starting time, here). We take a sample of 10_000 initial conditions from the eq distribution\n",
    "\n",
    "init_state = system.eq_state(10_000, 0, beta=1)"
   ]
  },
  {
   "cell_type": "code",
   "execution_count": null,
   "metadata": {},
   "outputs": [],
   "source": [
    "#the phase space is 2X2 because its a 2D potential and we have 10_000 trials so the shape is...\n",
    "print(init_state.shape)\n"
   ]
  },
  {
   "cell_type": "code",
   "execution_count": null,
   "metadata": {},
   "outputs": [],
   "source": [
    "#scatter plot briefly can confirm we have the right dist. \n",
    "fig, ax = plt.subplots(1,2, figsize=(12,5))\n",
    "ax[0].scatter(init_state[:,0,0], init_state[:,1,0])\n",
    "ax[0].set_xlabel('x')\n",
    "ax[0].set_xlabel('y')\n",
    "\n",
    "ax[1].scatter(init_state[:,0,1], init_state[:,1,1])\n",
    "ax[1].set_xlabel('v_x')\n",
    "ax[1].set_xlabel('v_y')"
   ]
  },
  {
   "cell_type": "code",
   "execution_count": null,
   "metadata": {},
   "outputs": [],
   "source": []
  },
  {
   "cell_type": "code",
   "execution_count": null,
   "metadata": {},
   "outputs": [],
   "source": [
    "#Now, we set up a sim object, to simulate an equation of motion for the system, with the given protocol and time dependent potential\n",
    "\n",
    "#FIRST, we choose a dynamic. These cam be built, but we have some built in already for langevin dynamics. Let's go for the full underdamped EOM. For more info look inside the docstrings in the simtools package\n",
    "\n",
    "gamma, theta, eta = 1, 1, 1\n",
    "\n",
    "#underdamped langevin dynamics takes 3 parameters and the time dependent force function for our system\n",
    "dynamic = langevin_underdamped.LangevinUnderdamped(theta, gamma, eta, system.get_external_force)\n",
    "#it also needs an inertial parameter, the mass. By default all systems have an object mass of 1, but it can be changed\n",
    "dynamic.mass = system.mass"
   ]
  },
  {
   "cell_type": "code",
   "execution_count": null,
   "metadata": {},
   "outputs": [],
   "source": [
    "# SECOND, we need an integrator to integrate the dynamic. Here the integrator is very simple, RK4 for the deterministic part and Euler for the stochastic. This is a place where we could optimize for more intelligent integrators for sure, but they mostly get the job done as is. Again, check the relevant docstrings for more info.\n",
    "\n",
    "integrator = rkdeterm_eulerstoch.RKDetermEulerStoch(dynamic)"
   ]
  },
  {
   "cell_type": "code",
   "execution_count": null,
   "metadata": {},
   "outputs": [],
   "source": [
    "# Third, we set up procedues to be done. They can happen before the simualtion, throughout it, or at the end. Check relevant docsrings inside of simtools for more info\n",
    "\n",
    "procedures = [\n",
    "            sp.ReturnFinalState(),\n",
    "            sp.MeasureAllState(trial_request=slice(0, 300)),\n",
    "            rp.MeasureAllValue(rp.get_dW, 'all_W'), \n",
    "            rp.MeasureFinalValue(rp.get_dW, 'final_W')]\n",
    "\n",
    "#These four procedures do exactly what it sounds like they would do. The first will give us just the final state for all trials. The second measures the whole simulation for the first 100 trials. The third measures work over time, and the last gives us the next work for the whole protocol."
   ]
  },
  {
   "cell_type": "code",
   "execution_count": null,
   "metadata": {},
   "outputs": [],
   "source": [
    "# Finally, we decide what dt we are going to use:\n",
    "dt = .0005\n",
    "nsteps = int(system.protocol.t_f/dt)\n",
    "# and create a Simulation object\n",
    "sim = Simulation(integrator.update_state, procedures, nsteps, dt, initial_state=init_state)\n",
    "# and associate the system with it, for future reference\n",
    "sim.system = system\n"
   ]
  },
  {
   "cell_type": "code",
   "execution_count": null,
   "metadata": {},
   "outputs": [],
   "source": [
    "#Now this is all set up, we can run a simulation:\n",
    "sim.output = sim.run(verbose=True)"
   ]
  },
  {
   "cell_type": "code",
   "execution_count": null,
   "metadata": {},
   "outputs": [],
   "source": [
    "sim.output?"
   ]
  },
  {
   "cell_type": "code",
   "execution_count": null,
   "metadata": {},
   "outputs": [],
   "source": [
    "#extract the results for viewing. The sim.output Bunch object acts a lot like a container for dictionaries and numpy arrays that are callable as attributes\n",
    "all_state = sim.output.all_state['states']\n",
    "final_state = sim.output.final_state\n",
    "final_W = sim.output.final_W\n",
    "all_W = sim.output.all_W\n"
   ]
  },
  {
   "cell_type": "code",
   "execution_count": null,
   "metadata": {},
   "outputs": [],
   "source": [
    "#all the outputs are numpy arrays\n",
    "print(all_W.shape,':trials, steps')\n",
    "\n",
    "print(all_state.shape,':trials, steps, dimensions, attributes per dimension')"
   ]
  },
  {
   "cell_type": "code",
   "execution_count": null,
   "metadata": {},
   "outputs": [],
   "source": [
    "#work over time for the first 500 trials\n",
    "plt.plot(all_W[:500,:].transpose(), alpha=.2);"
   ]
  },
  {
   "cell_type": "code",
   "execution_count": null,
   "metadata": {},
   "outputs": [],
   "source": [
    "#just net work for all trials:\n",
    "plt.hist(final_W, bins=50, density=True);"
   ]
  },
  {
   "cell_type": "code",
   "execution_count": null,
   "metadata": {},
   "outputs": [],
   "source": [
    "fig,ax = plt.subplots(3, figsize=(10,10))\n",
    "#here are x,v and v_x plots over time\n",
    "ax[0].plot(all_state[:,:,0,0].transpose());\n",
    "ax[1].plot(all_state[:,:,1,0].transpose());\n",
    "ax[2].plot(all_state[:,:,0,1].transpose());"
   ]
  },
  {
   "cell_type": "code",
   "execution_count": null,
   "metadata": {},
   "outputs": [],
   "source": [
    "%%capture\n",
    "#we can even see an animation of the trajectories where we saved every step. Here the slice is [:,:,:,0], which means we are looking at all trials, all timesteps, all dimensions, but only at position degrees of freedom. [:,:,:,1] would look at velocity degrees of freedom.\n",
    "ani,_,_ = kt.animate_sim(all_state[:,:,:,0], frame_skip=100, color_by_state=True)\n",
    "HTML(ani.to_jshtml(fps=30))"
   ]
  },
  {
   "cell_type": "code",
   "execution_count": null,
   "metadata": {},
   "outputs": [],
   "source": [
    "ani"
   ]
  },
  {
   "cell_type": "markdown",
   "metadata": {},
   "source": [
    "From the above plots, it is clear that this protocol is NOT working as intended. The particles are not reacting quickly enough to the potential, so the control and paramters arent good ones. Can you mess with the different parameters of the dynamic and the system to get a protocol that works better? Start just by making the protocol take longer. Let's make it last for four time units instead of one. One way to do this is to use the system.protocol.time_stretch method. Ill guide you below. This should help a little, at least"
   ]
  },
  {
   "cell_type": "code",
   "execution_count": null,
   "metadata": {},
   "outputs": [],
   "source": [
    "# usually its goo to normalize before stretching, so you dont loose track of the timescale from doing multiple stretches\n",
    "system.protocol.normalize()\n",
    "system.protocol.time_stretch(4)"
   ]
  },
  {
   "cell_type": "code",
   "execution_count": null,
   "metadata": {},
   "outputs": [],
   "source": [
    "system.protocol.times"
   ]
  },
  {
   "cell_type": "code",
   "execution_count": null,
   "metadata": {},
   "outputs": [],
   "source": [
    "# typically, I dont remake the whole sim item by hand each time, becuase there is alot of steps that are done over and over. It is faster to use something like the setup_sim function from the beginning. Then you get easier to read code like:\n",
    "\n",
    "from quick_sim import setup_sim\n",
    "\n",
    "#we wont need to generate a new initial_state, so thats all we need to make a new sim:\n",
    "\n",
    "\n",
    "sim = setup_sim(system, init_state, sim_params=[1,1,1], dt=.005, damping=2)\n",
    "#here, the [1,1,1] is for the dynamic parameters gamma, theta and eta\n",
    "\n",
    "#we also eased up on the dt. A fairly large dt is fine for sims if you dont need accuracy and are just looking at very general behavior. dt needs to be set carefully when looking to get real results though."
   ]
  },
  {
   "cell_type": "code",
   "execution_count": null,
   "metadata": {},
   "outputs": [],
   "source": [
    "sim.output = sim.run(verbose=True)"
   ]
  },
  {
   "cell_type": "code",
   "execution_count": null,
   "metadata": {},
   "outputs": [],
   "source": [
    "%%capture\n",
    "#when doing rapid prototyping like this, an animation can be really useful to see the big picture. \n",
    "\n",
    "all_state = sim.output.all_state['states']\n",
    "\n",
    "ani,_,_ = kt.animate_sim(all_state[:,:,:,0], frame_skip=10, color_by_state=True)\n",
    "HTML(ani.to_jshtml(fps=30))"
   ]
  },
  {
   "cell_type": "code",
   "execution_count": null,
   "metadata": {},
   "outputs": [],
   "source": [
    "ani"
   ]
  },
  {
   "cell_type": "markdown",
   "metadata": {},
   "source": [
    "See? It is better, but it isnt great. Ideally you would have the Orange/Blue evenly split along the bottom and the Red/Green evenly split along the top. Try some more stuff. Specifically investigate the dynamic parameters gamma, theta, eta and also the energy scale of the potential through system.potential.scale"
   ]
  },
  {
   "cell_type": "markdown",
   "metadata": {},
   "source": []
  }
 ],
 "metadata": {
  "kernelspec": {
   "display_name": "Python 3.7.15 ('base')",
   "language": "python",
   "name": "python3"
  },
  "language_info": {
   "codemirror_mode": {
    "name": "ipython",
    "version": 3
   },
   "file_extension": ".py",
   "mimetype": "text/x-python",
   "name": "python",
   "nbconvert_exporter": "python",
   "pygments_lexer": "ipython3",
   "version": "3.7.15"
  },
  "orig_nbformat": 4,
  "vscode": {
   "interpreter": {
    "hash": "c48eea1d6fe0303de93a25029b75a26fa311fe2cfce1f013702fed1a8d75264d"
   }
  }
 },
 "nbformat": 4,
 "nbformat_minor": 2
}
